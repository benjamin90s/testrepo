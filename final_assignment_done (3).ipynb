{
  "metadata": {
    "kernelspec": {
      "language": "python",
      "display_name": "Python 3",
      "name": "python3"
    },
    "language_info": {
      "name": "python",
      "version": "3.7.12",
      "mimetype": "text/x-python",
      "codemirror_mode": {
        "name": "ipython",
        "version": 3
      },
      "pygments_lexer": "ipython3",
      "nbconvert_exporter": "python",
      "file_extension": ".py"
    },
    "colab": {
      "name": "final_assignment_done.ipynb",
      "provenance": [],
      "collapsed_sections": []
    },
    "accelerator": "GPU",
    "gpuClass": "standard"
  },
  "nbformat_minor": 0,
  "nbformat": 4,
  "cells": [
    {
      "cell_type": "markdown",
      "source": [
        "#General Information"
      ],
      "metadata": {
        "id": "txrfknPxFaBL"
      }
    },
    {
      "cell_type": "markdown",
      "source": [
        "Welcome to the final Assignment. We will be applying the concepts we have learned over this week to solve this week's assignments. So, Let's get started! Goodluck!\n",
        "\n",
        "Please fill out your name and email in the below cell\n",
        "\n"
      ],
      "metadata": {
        "id": "O7EWS5siFSpM"
      }
    },
    {
      "cell_type": "code",
      "source": [
        "#NAME : BENJAMIN DEBBARMA\n",
        "#EMAIL : debbarmabenjamin69@gmail.com"
      ],
      "metadata": {
        "id": "A0T7huARFeY1"
      },
      "execution_count": null,
      "outputs": []
    },
    {
      "cell_type": "markdown",
      "source": [
        "#Assignment 7 (50 Marks)"
      ],
      "metadata": {
        "id": "DyJwqvjyInzB"
      }
    },
    {
      "cell_type": "markdown",
      "source": [
        "Hello folks!\n",
        "We congratulate you for reaching the final assignments. We wish you luck for the same. In this notebook you're supposed to predict the asteroid size using various algorithms and find out the R2 Score. Fine tune the model to get best possible R2 Score.\n",
        "\n",
        "Get the Aestroid Dataset using the following link\n",
        "\n",
        "https://www.kaggle.com/datasets/basu369victor/prediction-of-asteroid-diameter?select=Asteroid_Updated.csv "
      ],
      "metadata": {
        "id": "_A4G8rW3iFvT"
      }
    },
    {
      "cell_type": "markdown",
      "source": [
        "# Question No:1 (5 Marks)"
      ],
      "metadata": {
        "id": "6JjbE-xndI4T"
      }
    },
    {
      "cell_type": "markdown",
      "source": [
        "A. Give Little Overview about Overfitting, Underfitting, Data Augumentation, Data Simplification and Regularization.\n",
        "\n",
        "1. Impact of Overfitting (1 Marks)\n",
        "\n",
        "2. Impact of Underfitting (1 Marks)\n",
        "\n",
        "3. Significance of Data Augmentation (1 Marks)\n",
        "\n",
        "4. Significance of Data Simplification (1 Marks)\n",
        "\n",
        "5. Importance of Regularization (1 Marks)"
      ],
      "metadata": {
        "id": "6yAOoDnRdbnM"
      }
    },
    {
      "cell_type": "markdown",
      "source": [
        "**1)Impact of Overfitting:-** Overfitting happens when a model learns the detail and noise in the training data to the extent that it negatively impacts the performance of the model on new data. This means that the noise or random fluctuations in the training data is picked up and learned as concepts by the model. The problem is that these concepts do not apply to new data and negatively impact the models ability to generalize.\n",
        "\n"
      ],
      "metadata": {
        "id": "ikLhaUvFgZdQ"
      }
    },
    {
      "cell_type": "markdown",
      "source": [
        "**2)Impact of Underfitting:-**Underfitting is a scenario where a data model is unable to capture the relationship between the input and output variables accurately, generating a high error rate on both the training set and unseen data. When a model is underfitted, it cannot establish the dominant trend within the data, resulting in training errors and poor performance of the model. If a model cannot generalize well to new data, then it cannot be leveraged for classification or prediction tasks."
      ],
      "metadata": {
        "id": "7zGDjbNPgwZR"
      }
    },
    {
      "cell_type": "markdown",
      "source": [
        "**3)Significance of Data Augmentation**:- Data augmentation is a set of techniques to artificially increase the amount of data by generating new data points from existing data.Most companies don’t have enough data to train their ML models. This is where data augmentation comes in: even if you’re starting with very little, you can end up with massive amounts of data to generate insights, predictions, and recommendations that were previously unavailable due to a lack of relevant information."
      ],
      "metadata": {
        "id": "oHW4RhIRiGAH"
      }
    },
    {
      "cell_type": "markdown",
      "source": [
        "**4)Significance of Data Simplification**:- Data simplification is the most effective way to transmit the message necessary for making a decision, as everything is transparent and recognizable at a glance. Unifying the data and condensing the information in one place is much easier to recognize and compare a large quantity of data at once. This can help companies identify trends, analyze their performance, and make more precise forecasts."
      ],
      "metadata": {
        "id": "pWW84rJVktbL"
      }
    },
    {
      "cell_type": "markdown",
      "source": [
        "**5)Importance of Regularization**:- Regularization is a technique to prevent the model from overfitting by adding extra information to it. Sometimes the machine learning model performs well with the training data but does not perform well with the test data. It means the model is not able to predict the output when deals with unseen data by introducing noise in the output, and hence the model is called overfitted. This problem can be deal with the help of a regularization technique. This technique can be used in such a way that it will allow to maintain all variables or features in the model by reducing the magnitude of the variables. Hence, it maintains accuracy as well as a generalization of the model."
      ],
      "metadata": {
        "id": "IXR_lbCpnh1p"
      }
    },
    {
      "cell_type": "code",
      "source": [
        "#Your Answer\n",
        "#THIS FUNCTION IS TO CHECK WHETHER GPU SUPPORT IS ENABLED OR NOT\n",
        "%tensorflow_version 2.x\n",
        "import tensorflow as tf\n",
        "device_name = tf.test.gpu_device_name()\n",
        "if device_name != '/device:GPU:0':\n",
        "  raise SystemError('GPU device not found')\n",
        "print('Found GPU at: {}'.format(device_name))"
      ],
      "metadata": {
        "id": "EP-neWlBfYDM"
      },
      "execution_count": null,
      "outputs": []
    },
    {
      "cell_type": "markdown",
      "source": [
        "#Question No:2 (5 Marks)\n"
      ],
      "metadata": {
        "id": "rdGZ50KMRYlS"
      }
    },
    {
      "cell_type": "code",
      "source": [
        "from google.colab import drive\n",
        "drive.mount('/content/drive')"
      ],
      "metadata": {
        "colab": {
          "base_uri": "https://localhost:8080/"
        },
        "id": "VsvnatWY3qh6",
        "outputId": "f959df94-3f5f-408b-ae65-92002944483b"
      },
      "execution_count": null,
      "outputs": [
        {
          "output_type": "stream",
          "name": "stdout",
          "text": [
            "Mounted at /content/drive\n"
          ]
        }
      ]
    },
    {
      "cell_type": "markdown",
      "source": [
        "A. Perfom EDA on the dataset and bring out reduced and more significant dataset for Modelling\n",
        "\n",
        "Following are the questions you will need to answer:\n",
        "\n",
        "1. Clean the dataset(Checking missing values and replacing)  (1 marks)\n",
        "\n",
        "2. Use Seaborn Heat map and box plot for correlation and finalize features (2 marks)\n",
        "\n",
        "3. Use Feature reduction techniques such as PCA (2 marks)\n",
        "\n",
        "\n"
      ],
      "metadata": {
        "id": "OYFLk6yhRtD6"
      }
    },
    {
      "cell_type": "code",
      "source": [
        "##Your Code\n",
        "import numpy as np\n",
        "import pandas as pd\n",
        "import matplotlib.pyplot as plt\n",
        "import seaborn as sns\n",
        "import xgboost as xgb\n",
        "#import pickle\n",
        "#from scipy import stats # For the normal and probility dist chart \n",
        "#from scipy.stats import norm\n",
        "#sns.set_style(\"darkgrid\")\n",
        "from sklearn.model_selection import train_test_split\n",
        "import warnings\n",
        "warnings.simplefilter(action=\"ignore\", category=FutureWarning)\n",
        "\n",
        "file = '/content/drive/MyDrive/Asteroid_Updated.csv'\n",
        "df = pd.read_csv(file, sep=',',low_memory=False)\n",
        "\n",
        "#df = pd.read_csv('/content/Asteroid_Updated.csv', low_memory=False)#, error_bad_lines=False)\n",
        "df.isnull().sum()"
      ],
      "metadata": {
        "id": "lbs94sYNcRY2",
        "outputId": "94911223-8870-409d-9505-c998064cd6f2",
        "execution": {
          "iopub.status.busy": "2022-06-24T20:48:15.933054Z",
          "iopub.execute_input": "2022-06-24T20:48:15.933564Z",
          "iopub.status.idle": "2022-06-24T20:48:23.451607Z",
          "shell.execute_reply.started": "2022-06-24T20:48:15.933525Z",
          "shell.execute_reply": "2022-06-24T20:48:23.450209Z"
        },
        "trusted": true,
        "colab": {
          "base_uri": "https://localhost:8080/"
        }
      },
      "execution_count": 11,
      "outputs": [
        {
          "output_type": "execute_result",
          "data": {
            "text/plain": [
              "name              817747\n",
              "a                      2\n",
              "e                      0\n",
              "i                      0\n",
              "om                     0\n",
              "w                      0\n",
              "q                      0\n",
              "ad                     6\n",
              "per_y                  1\n",
              "data_arc           15474\n",
              "condition_code       867\n",
              "n_obs_used             0\n",
              "H                   2689\n",
              "neo                    6\n",
              "pha                16442\n",
              "diameter          702078\n",
              "extent            839696\n",
              "albedo            703305\n",
              "rot_per           820918\n",
              "GM                839700\n",
              "BV                838693\n",
              "UB                838735\n",
              "IR                839713\n",
              "spec_B            838048\n",
              "spec_T            838734\n",
              "G                 839595\n",
              "moid               16442\n",
              "class                  0\n",
              "n                      2\n",
              "per                    6\n",
              "ma                     8\n",
              "dtype: int64"
            ]
          },
          "metadata": {},
          "execution_count": 11
        }
      ]
    },
    {
      "cell_type": "code",
      "source": [
        "df.shape"
      ],
      "metadata": {
        "execution": {
          "iopub.status.busy": "2022-06-24T20:48:30.964710Z",
          "iopub.execute_input": "2022-06-24T20:48:30.965070Z",
          "iopub.status.idle": "2022-06-24T20:48:30.972332Z",
          "shell.execute_reply.started": "2022-06-24T20:48:30.965040Z",
          "shell.execute_reply": "2022-06-24T20:48:30.971117Z"
        },
        "trusted": true,
        "id": "eqMyVyiOZL4G",
        "colab": {
          "base_uri": "https://localhost:8080/"
        },
        "outputId": "bf2bb561-ab62-4d5b-f4d4-519c90f1418e"
      },
      "execution_count": 12,
      "outputs": [
        {
          "output_type": "execute_result",
          "data": {
            "text/plain": [
              "(839714, 31)"
            ]
          },
          "metadata": {},
          "execution_count": 12
        }
      ]
    },
    {
      "cell_type": "code",
      "source": [
        "columns=['a', 'e', 'i', 'om', 'w', 'q', 'ad', 'per_y', 'data_arc', 'n_obs_used', 'H', 'diameter', 'albedo', 'rot_per', 'moid','n', 'per', 'ma']\n",
        "df = df[columns]\n",
        "df = df.dropna(subset=[\"diameter\", \"rot_per\"]) # Removing rows with null diameter\n",
        "df = df[pd.to_numeric(df['diameter'], errors='coerce').notnull()] # Removing non numeric values\n",
        "df = df.dropna()\n",
        "df = df.astype(float)"
      ],
      "metadata": {
        "id": "S0gwVxz1n0V7",
        "execution": {
          "iopub.status.busy": "2022-06-24T20:48:34.662845Z",
          "iopub.execute_input": "2022-06-24T20:48:34.663535Z",
          "iopub.status.idle": "2022-06-24T20:48:34.813871Z",
          "shell.execute_reply.started": "2022-06-24T20:48:34.663495Z",
          "shell.execute_reply": "2022-06-24T20:48:34.812702Z"
        },
        "trusted": true
      },
      "execution_count": 13,
      "outputs": []
    },
    {
      "cell_type": "code",
      "source": [
        "#correlation matrix\n",
        "corrmat = df.corr()\n",
        "f, ax = plt.subplots(figsize=(16, 9))\n",
        "sns.heatmap(corrmat, vmax=1, annot=True)"
      ],
      "metadata": {
        "id": "ewk9t_91pt6W",
        "execution": {
          "iopub.status.busy": "2022-06-24T20:48:41.249089Z",
          "iopub.execute_input": "2022-06-24T20:48:41.250124Z",
          "iopub.status.idle": "2022-06-24T20:48:42.965939Z",
          "shell.execute_reply.started": "2022-06-24T20:48:41.250083Z",
          "shell.execute_reply": "2022-06-24T20:48:42.964948Z"
        },
        "trusted": true,
        "colab": {
          "base_uri": "https://localhost:8080/",
          "height": 607
        },
        "outputId": "d56f8645-7ec0-4257-8e3e-f55a3da64184"
      },
      "execution_count": 14,
      "outputs": [
        {
          "output_type": "execute_result",
          "data": {
            "text/plain": [
              "<matplotlib.axes._subplots.AxesSubplot at 0x7f41eade1990>"
            ]
          },
          "metadata": {},
          "execution_count": 14
        },
        {
          "output_type": "display_data",
          "data": {
            "text/plain": [
              "<Figure size 1152x648 with 2 Axes>"
            ],
            "image/png": "[encoded data removed]"
          },
          "metadata": {
            "needs_background": "light"
          }
        }
      ]
    },
    {
      "cell_type": "code",
      "source": [
        "corrmat[\"diameter\"].abs().sort_values(ascending=False).head(18)"
      ],
      "metadata": {
        "id": "jz_w1-xs3DCZ",
        "execution": {
          "iopub.status.busy": "2022-06-24T20:48:47.645088Z",
          "iopub.execute_input": "2022-06-24T20:48:47.645922Z",
          "iopub.status.idle": "2022-06-24T20:48:47.655595Z",
          "shell.execute_reply.started": "2022-06-24T20:48:47.645887Z",
          "shell.execute_reply": "2022-06-24T20:48:47.654506Z"
        },
        "trusted": true,
        "colab": {
          "base_uri": "https://localhost:8080/"
        },
        "outputId": "dc8adc53-401d-4f5c-a3f7-9053bc8eb4d4"
      },
      "execution_count": 15,
      "outputs": [
        {
          "output_type": "execute_result",
          "data": {
            "text/plain": [
              "diameter      1.000000\n",
              "H             0.699885\n",
              "data_arc      0.558719\n",
              "n_obs_used    0.430728\n",
              "moid          0.404641\n",
              "q             0.401024\n",
              "a             0.325324\n",
              "albedo        0.258148\n",
              "per_y         0.256075\n",
              "per           0.256075\n",
              "ad            0.250930\n",
              "n             0.223180\n",
              "i             0.092176\n",
              "e             0.057735\n",
              "w             0.028026\n",
              "om            0.024613\n",
              "ma            0.024209\n",
              "rot_per       0.005362\n",
              "Name: diameter, dtype: float64"
            ]
          },
          "metadata": {},
          "execution_count": 15
        }
      ]
    },
    {
      "cell_type": "code",
      "source": [
        "sns.boxplot(x='rot_per', y='diameter', data=df)\n",
        "plt.title('Diameter by rot_per')\n",
        "plt.yscale('log');"
      ],
      "metadata": {
        "colab": {
          "base_uri": "https://localhost:8080/",
          "height": 296
        },
        "id": "HFiltCKu67dz",
        "outputId": "5ea1be9b-920f-4236-c5dd-6536705cd6d0"
      },
      "execution_count": 16,
      "outputs": [
        {
          "output_type": "display_data",
          "data": {
            "text/plain": [
              "<Figure size 432x288 with 1 Axes>"
            ],
            "image/png": "[encoded data removed]"
          },
          "metadata": {
            "needs_background": "light"
          }
        }
      ]
    },
    {
      "cell_type": "code",
      "source": [
        "sns.boxplot(x='H', y='diameter', data=df)\n",
        "plt.title('Diameter by H')\n",
        "plt.yscale('log');"
      ],
      "metadata": {
        "colab": {
          "base_uri": "https://localhost:8080/",
          "height": 295
        },
        "id": "OJW3NfRU8WRv",
        "outputId": "a3db370c-367b-4dbb-e5a8-85568c06f510"
      },
      "execution_count": 17,
      "outputs": [
        {
          "output_type": "display_data",
          "data": {
            "text/plain": [
              "<Figure size 432x288 with 1 Axes>"
            ],
            "image/png": "[encoded data removed]"
          },
          "metadata": {
            "needs_background": "light"
          }
        }
      ]
    },
    {
      "cell_type": "code",
      "source": [
        "# After analysing HeatMap & boxplo,it can be said that 'H' has a strong collinearity with diameter\n",
        "#& we can eliminate some columns which doesn't have much colinearity\n",
        "#e,i,w,rot_per,ma,om\n",
        "dropNumColumn = ['e','i','w','rot_per','ma','om']\n",
        "\n",
        "df = df.drop(dropNumColumn, axis = 1)"
      ],
      "metadata": {
        "id": "P7e8kGZasd-z",
        "execution": {
          "iopub.status.busy": "2022-06-24T20:48:59.689836Z",
          "iopub.execute_input": "2022-06-24T20:48:59.690211Z",
          "iopub.status.idle": "2022-06-24T20:48:59.698231Z",
          "shell.execute_reply.started": "2022-06-24T20:48:59.690179Z",
          "shell.execute_reply": "2022-06-24T20:48:59.697184Z"
        },
        "trusted": true
      },
      "execution_count": 18,
      "outputs": []
    },
    {
      "cell_type": "code",
      "source": [
        "from sklearn.decomposition import PCA\n",
        "from sklearn.preprocessing import StandardScaler\n",
        "scaler=StandardScaler()\n",
        "#df = df.round(decimals=5)\n",
        "scaler.fit(df)\n",
        "scaled_data=scaler.transform(df)\n",
        "scaled_data"
      ],
      "metadata": {
        "id": "00KhUhDwtyFh",
        "execution": {
          "iopub.status.busy": "2022-06-24T20:49:03.144024Z",
          "iopub.execute_input": "2022-06-24T20:49:03.144642Z",
          "iopub.status.idle": "2022-06-24T20:49:03.230629Z",
          "shell.execute_reply.started": "2022-06-24T20:49:03.144605Z",
          "shell.execute_reply": "2022-06-24T20:49:03.229516Z"
        },
        "trusted": true,
        "colab": {
          "base_uri": "https://localhost:8080/"
        },
        "outputId": "0cd1e8eb-9f6c-4039-faa8-e0342ad6efeb"
      },
      "execution_count": 19,
      "outputs": [
        {
          "output_type": "execute_result",
          "data": {
            "text/plain": [
              "array([[-1.09746319e-02,  2.38958930e-01, -1.23420274e-01, ...,\n",
              "         2.62371706e-01, -2.20153219e-01, -3.23908242e-02],\n",
              "       [-8.18312024e-03, -2.86809432e-01,  1.19677400e-01, ...,\n",
              "        -1.90197865e-01, -2.24417913e-01, -3.12214510e-02],\n",
              "       [-9.55594518e-02, -4.73113463e-01,  8.80660828e-02, ...,\n",
              "        -4.38927117e-01, -8.46379904e-02, -6.74913263e-02],\n",
              "       ...,\n",
              "       [-1.63335609e+00, -2.14765919e+00, -1.19872932e+00, ...,\n",
              "        -1.72323237e+00,  1.14175750e+01, -5.74872230e-01],\n",
              "       [-1.57853404e-02, -1.80955769e+00,  8.02841225e-01, ...,\n",
              "        -1.57838374e+00, -2.12773827e-01, -3.44044101e-02],\n",
              "       [-3.00593133e-01, -1.55091589e+00,  3.05561211e-01, ...,\n",
              "        -1.56104404e+00,  3.02939644e-01, -1.49845929e-01]])"
            ]
          },
          "metadata": {},
          "execution_count": 19
        }
      ]
    },
    {
      "cell_type": "code",
      "source": [
        "pca=PCA(n_components=2)\n",
        "pca.fit(scaled_data)\n",
        "x_pca=pca.transform(scaled_data)\n",
        "x_pca.shape"
      ],
      "metadata": {
        "id": "pL0RGf2Eug0F",
        "execution": {
          "iopub.status.busy": "2022-06-24T20:49:06.145056Z",
          "iopub.execute_input": "2022-06-24T20:49:06.146016Z",
          "iopub.status.idle": "2022-06-24T20:49:06.208489Z",
          "shell.execute_reply.started": "2022-06-24T20:49:06.145978Z",
          "shell.execute_reply": "2022-06-24T20:49:06.207507Z"
        },
        "trusted": true,
        "colab": {
          "base_uri": "https://localhost:8080/"
        },
        "outputId": "4264968c-e493-44e6-cbf4-91b3d6d4dd8b"
      },
      "execution_count": 20,
      "outputs": [
        {
          "output_type": "execute_result",
          "data": {
            "text/plain": [
              "(11153, 2)"
            ]
          },
          "metadata": {},
          "execution_count": 20
        }
      ]
    },
    {
      "cell_type": "code",
      "source": [
        "pca.explained_variance_ratio_"
      ],
      "metadata": {
        "id": "3fSbJFLbwOZz",
        "execution": {
          "iopub.status.busy": "2022-06-24T20:49:09.240036Z",
          "iopub.execute_input": "2022-06-24T20:49:09.240695Z",
          "iopub.status.idle": "2022-06-24T20:49:09.257490Z",
          "shell.execute_reply.started": "2022-06-24T20:49:09.240649Z",
          "shell.execute_reply": "2022-06-24T20:49:09.255213Z"
        },
        "trusted": true,
        "colab": {
          "base_uri": "https://localhost:8080/"
        },
        "outputId": "ebbbf573-891d-4804-a355-8bc22bdb6f72"
      },
      "execution_count": 21,
      "outputs": [
        {
          "output_type": "execute_result",
          "data": {
            "text/plain": [
              "array([0.47476951, 0.24300662])"
            ]
          },
          "metadata": {},
          "execution_count": 21
        }
      ]
    },
    {
      "cell_type": "code",
      "source": [
        "scaled_data"
      ],
      "metadata": {
        "id": "7bNGDwf0wX5m",
        "execution": {
          "iopub.status.busy": "2022-06-24T20:49:11.899129Z",
          "iopub.execute_input": "2022-06-24T20:49:11.899668Z",
          "iopub.status.idle": "2022-06-24T20:49:11.911689Z",
          "shell.execute_reply.started": "2022-06-24T20:49:11.899635Z",
          "shell.execute_reply": "2022-06-24T20:49:11.910055Z"
        },
        "trusted": true,
        "colab": {
          "base_uri": "https://localhost:8080/"
        },
        "outputId": "1cdf7f82-21ed-4aef-82df-296b556953f2"
      },
      "execution_count": 22,
      "outputs": [
        {
          "output_type": "execute_result",
          "data": {
            "text/plain": [
              "array([[-1.09746319e-02,  2.38958930e-01, -1.23420274e-01, ...,\n",
              "         2.62371706e-01, -2.20153219e-01, -3.23908242e-02],\n",
              "       [-8.18312024e-03, -2.86809432e-01,  1.19677400e-01, ...,\n",
              "        -1.90197865e-01, -2.24417913e-01, -3.12214510e-02],\n",
              "       [-9.55594518e-02, -4.73113463e-01,  8.80660828e-02, ...,\n",
              "        -4.38927117e-01, -8.46379904e-02, -6.74913263e-02],\n",
              "       ...,\n",
              "       [-1.63335609e+00, -2.14765919e+00, -1.19872932e+00, ...,\n",
              "        -1.72323237e+00,  1.14175750e+01, -5.74872230e-01],\n",
              "       [-1.57853404e-02, -1.80955769e+00,  8.02841225e-01, ...,\n",
              "        -1.57838374e+00, -2.12773827e-01, -3.44044101e-02],\n",
              "       [-3.00593133e-01, -1.55091589e+00,  3.05561211e-01, ...,\n",
              "        -1.56104404e+00,  3.02939644e-01, -1.49845929e-01]])"
            ]
          },
          "metadata": {},
          "execution_count": 22
        }
      ]
    },
    {
      "cell_type": "code",
      "source": [
        "x_pca"
      ],
      "metadata": {
        "id": "NJMzKFnHwkKd",
        "execution": {
          "iopub.status.busy": "2022-06-24T20:49:14.422084Z",
          "iopub.execute_input": "2022-06-24T20:49:14.423036Z",
          "iopub.status.idle": "2022-06-24T20:49:14.430071Z",
          "shell.execute_reply.started": "2022-06-24T20:49:14.422997Z",
          "shell.execute_reply": "2022-06-24T20:49:14.429106Z"
        },
        "trusted": true,
        "colab": {
          "base_uri": "https://localhost:8080/"
        },
        "outputId": "fa59e76f-b6f1-4865-a1af-1dfea67e93a1"
      },
      "execution_count": 23,
      "outputs": [
        {
          "output_type": "execute_result",
          "data": {
            "text/plain": [
              "array([[  7.76493425, -13.28284037],\n",
              "       [  5.27359469, -15.95549372],\n",
              "       [  2.58680613, -11.01633313],\n",
              "       ...,\n",
              "       [ -6.4114787 ,   3.26592605],\n",
              "       [ -1.64565684,   2.58541425],\n",
              "       [ -1.94796971,   2.966043  ]])"
            ]
          },
          "metadata": {},
          "execution_count": 23
        }
      ]
    },
    {
      "cell_type": "markdown",
      "source": [
        "# Question No:3 ( 25 Marks )"
      ],
      "metadata": {
        "id": "P92uv4YOTiKR"
      }
    },
    {
      "cell_type": "markdown",
      "source": [
        "A.Data Modelling using various Machine Learning Algorithms (Use Linear, KNN , Support Vector Machining , Random Forest , Gradient Boost, XG Boost) on processed dataset and Obtain performance metric R2 score:\n",
        "\n",
        "  1. Give little theoritical overview about Error Metrics and R2 metrics.(5 Marks) \n",
        "\n",
        "  2. Data Modelling using Linear Regression Algorithm (2 Marks)\n",
        "\n",
        "  3. Data Modelling using KNN Algorithm (3 Marks)\n",
        "\n",
        "  4. Data Modelling using Support Vector Machining Algorithm (3 Marks)\n",
        "\n",
        "  5. Data Modelling using Random Forest Algorithm (2 Marks)\n",
        "\n",
        "  6. Data Modelling using Gradient Boosting Algorithm (2 Marks)\n",
        "\n",
        "  7. Data Modelling using XG Boost Algorithm (3 Marks)\n",
        "\n",
        "  8. Justify the best Model using R2 score (5 Marks)"
      ],
      "metadata": {
        "id": "AbxshRjdT2Ti"
      }
    },
    {
      "cell_type": "markdown",
      "source": [
        "****Error Metrics:-**** An error metric is a way to quantify the performance of a model and provides a way for the forecaster to quantitatively compare the performance of different ML models. They give us a way to more objectively gauge how well the model executes its tasks accurately.There are three error metrics that are commonly used for evaluating and reporting the performance of a regression model:\n",
        "1)Mean Squared Error (MSE).\n",
        "2)Root Mean Squared Error (RMSE).\n",
        "3)Mean Absolute Error (MAE)\n",
        "\n",
        "**R2 metrics:-** R-squared(R2) metrics is a statistical measure that represents the proportion of the variance for a dependent variable that's explained by an independent variable or variables in a regression model. It explains to what extent the variance of one variable explains the variance of the second variable. So, if the R2 of a model is 0.50, then approximately half of the observed variation can be explained by the model's inputs."
      ],
      "metadata": {
        "id": "aLlipdjrZL4I"
      }
    },
    {
      "cell_type": "code",
      "source": [
        "#CREATING A LIST TO STORE THE NAME OF THE MODEL & THEIR RESPECTIVE R2 SCORE\n",
        "#SO THAT WE CAN PLOT A GRAPH BETWEEN THE MODEL & THEIR SCORE AT THE END\n",
        "algorithms = []\n",
        "scores = []"
      ],
      "metadata": {
        "id": "i5YDj1S4Qo6O"
      },
      "execution_count": 96,
      "outputs": []
    },
    {
      "cell_type": "code",
      "source": [
        "y = df['diameter']\n",
        "x = df.drop(['diameter'],axis = 1)\n",
        "SS_scaler = StandardScaler()\n",
        "X_std = SS_scaler.fit_transform(x)\n",
        "\n",
        "X_train, X_test, y_train, y_test = train_test_split(x_pca, y, test_size=0.2, random_state=42)\n",
        "print('Shape of X and Y',x.shape,y.shape )\n",
        "print('X_train_shape',X_train.shape)\n",
        "print('X_test_shape',X_test.shape)\n",
        "print('Y_train_shape',y_train.shape)\n",
        "print('Y_test_shape',y_test.shape)\n"
      ],
      "metadata": {
        "id": "A9kEC33IyDuS",
        "execution": {
          "iopub.status.busy": "2022-06-24T20:49:18.413440Z",
          "iopub.execute_input": "2022-06-24T20:49:18.413964Z",
          "iopub.status.idle": "2022-06-24T20:49:18.435243Z",
          "shell.execute_reply.started": "2022-06-24T20:49:18.413934Z",
          "shell.execute_reply": "2022-06-24T20:49:18.434208Z"
        },
        "trusted": true,
        "colab": {
          "base_uri": "https://localhost:8080/"
        },
        "outputId": "511ef6b6-bbec-46bf-aab0-c24fec6c5a3e"
      },
      "execution_count": 39,
      "outputs": [
        {
          "output_type": "stream",
          "name": "stdout",
          "text": [
            "Shape of X and Y (11153, 11) (11153,)\n",
            "X_train_shape (8922, 2)\n",
            "X_test_shape (2231, 2)\n",
            "Y_train_shape (8922,)\n",
            "Y_test_shape (2231,)\n"
          ]
        }
      ]
    },
    {
      "cell_type": "code",
      "source": [
        "##Your Code\n",
        "from sklearn.metrics import mean_squared_error\n",
        "from sklearn.metrics import r2_score        \n",
        "from sklearn.linear_model import LinearRegression\n",
        "\n",
        "##Applying Linear Regression Model\n",
        "\n",
        "model = LinearRegression()\n",
        "model.fit(X_train, y_train)\n",
        "model.predict(X_test)\n",
        "\n",
        "DiameterPrediction  = model.predict(X_test)\n",
        "mse = mean_squared_error(y_test, DiameterPrediction)\n",
        "rmse = np.sqrt(mse)\n",
        "print(\"root mean square error : \"+str(rmse))\n",
        "\n",
        "r2 = r2_score(y_test,DiameterPrediction)\n",
        "print(\"R2 Score : \",r2)\n",
        "\n",
        "algorithms.append('LinearReg')\n",
        "scores.append(r2)"
      ],
      "metadata": {
        "id": "YAZ2wuk1Th1T",
        "execution": {
          "iopub.status.busy": "2022-06-24T20:49:21.526906Z",
          "iopub.execute_input": "2022-06-24T20:49:21.527278Z",
          "iopub.status.idle": "2022-06-24T20:49:21.543174Z",
          "shell.execute_reply.started": "2022-06-24T20:49:21.527249Z",
          "shell.execute_reply": "2022-06-24T20:49:21.542127Z"
        },
        "trusted": true,
        "colab": {
          "base_uri": "https://localhost:8080/"
        },
        "outputId": "fc00870c-4f7f-4f3a-bc8e-afa4f6ead653"
      },
      "execution_count": 97,
      "outputs": [
        {
          "output_type": "stream",
          "name": "stdout",
          "text": [
            "root mean square error : 23.40254102037856\n",
            "R2 Score :  0.5514371511924876\n"
          ]
        }
      ]
    },
    {
      "cell_type": "code",
      "source": [
        "##Applying KNN model\n",
        "\n",
        "from sklearn.neighbors import KNeighborsRegressor\n",
        "\n",
        "model = KNeighborsRegressor()\n",
        "model.fit(X_train, y_train)\n",
        "model.predict(X_test)\n",
        "\n",
        "DiameterPrediction  = model.predict(X_test)\n",
        "mse = mean_squared_error(y_test, DiameterPrediction)\n",
        "rmse = np.sqrt(mse)\n",
        "print(\"root mean square error : \"+str(rmse))\n",
        "\n",
        "r2 = r2_score(y_test,DiameterPrediction)\n",
        "print(\"R2 Score : \",r2)\n",
        "\n",
        "algorithms.append('KNN')\n",
        "scores.append(r2)"
      ],
      "metadata": {
        "id": "S-FN5OnYzgwl",
        "execution": {
          "iopub.status.busy": "2022-06-24T20:49:28.554150Z",
          "iopub.execute_input": "2022-06-24T20:49:28.557378Z",
          "iopub.status.idle": "2022-06-24T20:49:28.619686Z",
          "shell.execute_reply.started": "2022-06-24T20:49:28.557329Z",
          "shell.execute_reply": "2022-06-24T20:49:28.618720Z"
        },
        "trusted": true,
        "colab": {
          "base_uri": "https://localhost:8080/"
        },
        "outputId": "c2600c2b-a68d-4e3d-b684-98969d6f91ca"
      },
      "execution_count": 98,
      "outputs": [
        {
          "output_type": "stream",
          "name": "stdout",
          "text": [
            "root mean square error : 14.354624523847237\n",
            "R2 Score :  0.8312355590392497\n"
          ]
        }
      ]
    },
    {
      "cell_type": "code",
      "source": [
        "##Applying SVM model\n",
        "\n",
        "from sklearn.svm import SVR\n",
        "model = SVR()\n",
        "model.fit(X_train, y_train)\n",
        "model.predict(X_test)\n",
        "\n",
        "diameterPrediction  = model.predict(X_test)\n",
        "mse = mean_squared_error(y_test, diameterPrediction)\n",
        "rmse = np.sqrt(mse)\n",
        "print(\"root mean square error : \"+str(rmse))\n",
        "\n",
        "r2 = r2_score(y_test,diameterPrediction)\n",
        "print(\"R2 Score : \",r2)\n",
        "\n",
        "algorithms.append('SVR')\n",
        "scores.append(r2)"
      ],
      "metadata": {
        "id": "hD2QCrvJ0UbW",
        "execution": {
          "iopub.status.busy": "2022-06-24T20:49:33.619930Z",
          "iopub.execute_input": "2022-06-24T20:49:33.620815Z",
          "iopub.status.idle": "2022-06-24T20:49:38.353827Z",
          "shell.execute_reply.started": "2022-06-24T20:49:33.620779Z",
          "shell.execute_reply": "2022-06-24T20:49:38.352833Z"
        },
        "trusted": true,
        "colab": {
          "base_uri": "https://localhost:8080/"
        },
        "outputId": "aeadc782-5a81-4889-c61b-c540b69c5d99"
      },
      "execution_count": 99,
      "outputs": [
        {
          "output_type": "stream",
          "name": "stdout",
          "text": [
            "root mean square error : 24.197579732917276\n",
            "R2 Score :  0.5204420112480495\n"
          ]
        }
      ]
    },
    {
      "cell_type": "code",
      "source": [
        "##applying RandomForest\n",
        "\n",
        "from sklearn.ensemble import RandomForestRegressor\n",
        "\n",
        "model = RandomForestRegressor()\n",
        "model.fit(X_train, y_train)\n",
        "\n",
        "diameterPrediction  = model.predict(X_test)\n",
        "mse = mean_squared_error(y_test, diameterPrediction)\n",
        "rmse = np.sqrt(mse)\n",
        "print(\"root mean square error : \"+str(rmse))\n",
        "\n",
        "r2 = r2_score(y_test,diameterPrediction)\n",
        "print(\"R2 Score : \",r2)\n",
        "\n",
        "algorithms.append('RandomForest')\n",
        "scores.append(r2)\n"
      ],
      "metadata": {
        "id": "zyD7o-XOMX-Q",
        "execution": {
          "iopub.status.busy": "2022-06-24T20:49:46.931815Z",
          "iopub.execute_input": "2022-06-24T20:49:46.932169Z",
          "iopub.status.idle": "2022-06-24T20:49:48.843423Z",
          "shell.execute_reply.started": "2022-06-24T20:49:46.932121Z",
          "shell.execute_reply": "2022-06-24T20:49:48.842393Z"
        },
        "trusted": true,
        "colab": {
          "base_uri": "https://localhost:8080/"
        },
        "outputId": "4883b01e-2255-4b5e-eb57-1f0ee42272f0"
      },
      "execution_count": 100,
      "outputs": [
        {
          "output_type": "stream",
          "name": "stdout",
          "text": [
            "root mean square error : 12.89273947083828\n",
            "R2 Score :  0.863859392403412\n"
          ]
        }
      ]
    },
    {
      "cell_type": "code",
      "source": [
        "##applying Gradient Boosting\n",
        "from sklearn.ensemble import GradientBoostingRegressor\n",
        "\n",
        "gradientregressor = GradientBoostingRegressor()\n",
        "\n",
        "model = gradientregressor.fit(X_train, y_train)\n",
        "CostPrediction = model.predict(X_test)\n",
        "mse = mean_squared_error(y_test, diameterPrediction)\n",
        "rmse = np.sqrt(mse)\n",
        "print(\"root mean square error : \"+str(rmse))\n",
        "\n",
        "r2 = r2_score(y_test,diameterPrediction)\n",
        "print(\"R2 Score : \",r2)\n",
        "\n",
        "algorithms.append('Gradient')\n",
        "scores.append(r2)"
      ],
      "metadata": {
        "id": "ZkN9jwwd37lx",
        "execution": {
          "iopub.status.busy": "2022-06-24T20:49:55.831475Z",
          "iopub.execute_input": "2022-06-24T20:49:55.831838Z",
          "iopub.status.idle": "2022-06-24T20:49:56.562922Z",
          "shell.execute_reply.started": "2022-06-24T20:49:55.831807Z",
          "shell.execute_reply": "2022-06-24T20:49:56.561680Z"
        },
        "trusted": true,
        "colab": {
          "base_uri": "https://localhost:8080/"
        },
        "outputId": "289c6f68-7019-42bc-fcfc-6b77aa96e427"
      },
      "execution_count": 101,
      "outputs": [
        {
          "output_type": "stream",
          "name": "stdout",
          "text": [
            "root mean square error : 12.89273947083828\n",
            "R2 Score :  0.863859392403412\n"
          ]
        }
      ]
    },
    {
      "cell_type": "code",
      "source": [
        "!pip install xgboost"
      ],
      "metadata": {
        "id": "nZxFGK3u4eKe",
        "execution": {
          "iopub.status.busy": "2022-06-24T20:36:57.229631Z",
          "iopub.execute_input": "2022-06-24T20:36:57.230582Z",
          "iopub.status.idle": "2022-06-24T20:37:29.798088Z",
          "shell.execute_reply.started": "2022-06-24T20:36:57.230528Z",
          "shell.execute_reply": "2022-06-24T20:37:29.796373Z"
        },
        "trusted": true
      },
      "execution_count": null,
      "outputs": []
    },
    {
      "cell_type": "code",
      "source": [
        "##applying XGBRegressor\n",
        "from xgboost import XGBRegressor\n",
        "XGBRegressor()\n",
        "xgbregressor = XGBRegressor(objective='reg:squarederror')\n",
        "model = xgbregressor.fit(X_train, y_train)\n",
        "diameterPrediction = model.predict(X_test)\n",
        "mse = mean_squared_error(y_test, diameterPrediction)\n",
        "rmse = np.sqrt(mse)\n",
        "print(\"root mean square error : \"+str(rmse))\n",
        "\n",
        "r2 = r2_score(y_test,diameterPrediction)\n",
        "print(\"R2 Score : \",r2)\n",
        "\n",
        "algorithms.append('XGB')\n",
        "scores.append(r2)"
      ],
      "metadata": {
        "id": "CLCPP9IA4k5R",
        "execution": {
          "iopub.status.busy": "2022-06-24T20:50:00.760075Z",
          "iopub.execute_input": "2022-06-24T20:50:00.760962Z",
          "iopub.status.idle": "2022-06-24T20:50:04.007045Z",
          "shell.execute_reply.started": "2022-06-24T20:50:00.760912Z",
          "shell.execute_reply": "2022-06-24T20:50:04.006235Z"
        },
        "trusted": true,
        "colab": {
          "base_uri": "https://localhost:8080/"
        },
        "outputId": "a9c6f64f-19e7-4f5f-ccd4-6caad88ede47"
      },
      "execution_count": 102,
      "outputs": [
        {
          "output_type": "stream",
          "name": "stdout",
          "text": [
            "root mean square error : 13.3974565770813\n",
            "R2 Score :  0.8529916553994319\n"
          ]
        }
      ]
    },
    {
      "cell_type": "code",
      "source": [
        "sns.barplot(algorithms,scores)"
      ],
      "metadata": {
        "colab": {
          "base_uri": "https://localhost:8080/",
          "height": 283
        },
        "id": "bA8VOdSkRRDo",
        "outputId": "413299c4-3822-4c20-d8e2-a3e356d61e5f"
      },
      "execution_count": 103,
      "outputs": [
        {
          "output_type": "execute_result",
          "data": {
            "text/plain": [
              "<matplotlib.axes._subplots.AxesSubplot at 0x7f41aa44e790>"
            ]
          },
          "metadata": {},
          "execution_count": 103
        },
        {
          "output_type": "display_data",
          "data": {
            "text/plain": [
              "<Figure size 432x288 with 1 Axes>"
            ],
            "image/png": "[encoded data removed]"
          },
          "metadata": {
            "needs_background": "light"
          }
        }
      ]
    },
    {
      "cell_type": "markdown",
      "source": [
        "**AS WE CAN CLEARLY SEE THE R2 SCORES OF BOTH 'GradientBoostingRegressor' & 'RandomForestRegressor' ARE THE HIGHEST WHEN COMPARED TO OTHER MODEL, WE CAN CONCLUDE THAT 'GradientBoostingRegressor' IS THE BEST MODEL IN THIS CASE, AS IT IS TAKING LESSER TIME THAN 'RandomForestRegressor'.**"
      ],
      "metadata": {
        "id": "RlLtTUcnZL4K"
      }
    },
    {
      "cell_type": "markdown",
      "source": [
        "# Question No:4 ( 15 Marks)"
      ],
      "metadata": {
        "id": "FdFxQDB6YaHy"
      }
    },
    {
      "cell_type": "markdown",
      "source": [
        "A. Perform Hyper parameter tuning on every algorithm by using any one of available options such as GridSearch, K-Fold, Randomized Search. \n",
        "\n",
        "1. Give little overview about Grid Search, K-Fold and Randomized search. (5 Marks)\n",
        "\n",
        "2. Get the improvised Model of each Algorithm through hyper parameter tuning and justify the best Model using R2 score (10 Marks)"
      ],
      "metadata": {
        "id": "5QSu1qs5YxF0"
      }
    },
    {
      "cell_type": "markdown",
      "source": [
        "**Grid Search:-**GridSearchCV is the process of performing hyperparameter tuning in order to determine the optimal values for a given model. The performance of a model significantly depends on the value of hyperparameters. As there is no way to know in advance the best values for hyperparameters so ideally, we need to try all possible values to know the optimal values. Doing this manually could take a considerable amount of time and resources and thus we use GridSearchCV to automate the tuning of hyperparameters. GridSearchCV is a function that comes in Scikit-learn’s(or SK-learn) model_selection package.This function helps to loop through predefined hyperparameters and fit your estimator (model) on your training set. So, in the end, we can select the best parameters from the listed hyperparameters."
      ],
      "metadata": {
        "id": "Wg-dnsmrpfuw"
      }
    },
    {
      "cell_type": "markdown",
      "source": [
        "**K Fold:-** In K Fold cross validation, the data is divided into k subsets and train our model on k-1 subsets and hold the last one for test. This process is repeated k times, such that each time, one of the k subsets is used as the test set/ validation set and the other k-1 subsets are put together to form a training set."
      ],
      "metadata": {
        "id": "DbO13jKTuVjJ"
      }
    },
    {
      "cell_type": "markdown",
      "source": [
        "**Randomized search:-**Randomized search is a technique where random combinations of the hyperparameters are used to find the best solution for the built model. It tries random combinations of a range of values. Random search works best for lower dimensional data since the time taken to find the right set is less with less number of iterations. Random search is the best parameter search technique when there are less number of dimensions.\n",
        "The drawback of random search is that it yields high variance during computing. Since the selection of parameters is completely random, and since no intelligence is used to sample these combinations, luck plays its part."
      ],
      "metadata": {
        "id": "9e45GU1DwmyQ"
      }
    },
    {
      "cell_type": "code",
      "source": [
        "#CREATING A LIST TO STORE THE NAME OF THE MODEL & THEIR RESPECTIVE R2 SCORE\n",
        "#SO THAT WE CAN PLOT A GRAPH BETWEEN THE MODEL & THEIR SCORE AT THE END\n",
        "algorithms = []\n",
        "scores = []"
      ],
      "metadata": {
        "id": "WFPH7PiENewQ"
      },
      "execution_count": 82,
      "outputs": []
    },
    {
      "cell_type": "code",
      "source": [
        "##Your Code\n",
        "#GRID SEARCH Hyper Parameter tuning\n",
        "\n",
        "from sklearn.model_selection import GridSearchCV\n",
        "LR = {'learning_rate':[0.15,0.1,0.10,0.05], 'n_estimators':[100,150,200,250]}\n",
        "\n",
        "tuning = GridSearchCV(estimator =GradientBoostingRegressor(), \n",
        "            param_grid = LR, scoring='r2')\n",
        "tuning.fit(X_train,y_train)\n",
        "tuning.best_params_, tuning.best_score_\n",
        "\n",
        "\n"
      ],
      "metadata": {
        "id": "nzOXnqphYZZK",
        "execution": {
          "iopub.status.busy": "2022-06-24T20:50:17.846742Z",
          "iopub.execute_input": "2022-06-24T20:50:17.847085Z",
          "iopub.status.idle": "2022-06-24T20:51:28.640076Z",
          "shell.execute_reply.started": "2022-06-24T20:50:17.847057Z",
          "shell.execute_reply": "2022-06-24T20:51:28.638887Z"
        },
        "trusted": true,
        "colab": {
          "base_uri": "https://localhost:8080/"
        },
        "outputId": "b30eb703-3a26-416e-9cfb-ff9e9e39f94e"
      },
      "execution_count": 83,
      "outputs": [
        {
          "output_type": "execute_result",
          "data": {
            "text/plain": [
              "({'learning_rate': 0.15, 'n_estimators': 100}, 0.8640852263792281)"
            ]
          },
          "metadata": {},
          "execution_count": 83
        }
      ]
    },
    {
      "cell_type": "code",
      "source": [
        "gradientregressor = GradientBoostingRegressor(n_estimators=100,learning_rate=0.15)\n",
        "model = gradientregressor.fit(X_train, y_train)\n",
        "diameterPrediction = model.predict(X_test)\n",
        "r2 = r2_score(y_test,diameterPrediction)\n",
        "print(\"R2 Score : \",r2)\n",
        "\n",
        "algorithms.append('GradientBoost')\n",
        "scores.append(r2)\n"
      ],
      "metadata": {
        "id": "yfLrD1QRIRs7",
        "execution": {
          "iopub.status.busy": "2022-06-24T20:51:55.153235Z",
          "iopub.execute_input": "2022-06-24T20:51:55.153879Z",
          "iopub.status.idle": "2022-06-24T20:51:55.913642Z",
          "shell.execute_reply.started": "2022-06-24T20:51:55.153844Z",
          "shell.execute_reply": "2022-06-24T20:51:55.912520Z"
        },
        "trusted": true,
        "colab": {
          "base_uri": "https://localhost:8080/"
        },
        "outputId": "47258592-5287-4a25-b387-e2b9f90fedf0"
      },
      "execution_count": 84,
      "outputs": [
        {
          "output_type": "stream",
          "name": "stdout",
          "text": [
            "R2 Score :  0.8642668190731437\n"
          ]
        }
      ]
    },
    {
      "cell_type": "code",
      "source": [
        "#KFOLD hyper parameter tuning\n",
        "\n",
        "from sklearn.model_selection import KFold\n",
        "KNN = KNeighborsRegressor()\n",
        "seed = 13\n",
        "kfold = KFold(n_splits=3, shuffle=True, random_state=seed)\n",
        "# Define our candidate hyperparameters\n",
        "hp_candidates = [{'n_neighbors': [3,4,5,6,7], 'weights': ['uniform','distance']}]\n",
        "# Search for best hyperparameters\n",
        "grid = GridSearchCV(estimator=KNN, param_grid=hp_candidates, cv=kfold, scoring='r2')\n",
        "grid.fit(X_train, y_train)"
      ],
      "metadata": {
        "id": "YFop8SuZFhhm",
        "execution": {
          "iopub.status.busy": "2022-06-24T20:52:00.257171Z",
          "iopub.execute_input": "2022-06-24T20:52:00.257856Z",
          "iopub.status.idle": "2022-06-24T20:52:00.564214Z",
          "shell.execute_reply.started": "2022-06-24T20:52:00.257818Z",
          "shell.execute_reply": "2022-06-24T20:52:00.563330Z"
        },
        "trusted": true,
        "colab": {
          "base_uri": "https://localhost:8080/"
        },
        "outputId": "a2333a95-9f57-4ee4-bd9d-0e87e1176cc1"
      },
      "execution_count": 48,
      "outputs": [
        {
          "output_type": "execute_result",
          "data": {
            "text/plain": [
              "GridSearchCV(cv=KFold(n_splits=3, random_state=13, shuffle=True),\n",
              "             estimator=KNeighborsRegressor(),\n",
              "             param_grid=[{'n_neighbors': [3, 4, 5, 6, 7],\n",
              "                          'weights': ['uniform', 'distance']}],\n",
              "             scoring='r2')"
            ]
          },
          "metadata": {},
          "execution_count": 48
        }
      ]
    },
    {
      "cell_type": "code",
      "source": [
        "grid.best_params_"
      ],
      "metadata": {
        "id": "oDf2WzqTGi0s",
        "execution": {
          "iopub.status.busy": "2022-06-24T20:52:04.881982Z",
          "iopub.execute_input": "2022-06-24T20:52:04.882691Z",
          "iopub.status.idle": "2022-06-24T20:52:04.889064Z",
          "shell.execute_reply.started": "2022-06-24T20:52:04.882649Z",
          "shell.execute_reply": "2022-06-24T20:52:04.888122Z"
        },
        "trusted": true,
        "colab": {
          "base_uri": "https://localhost:8080/"
        },
        "outputId": "91ca529b-c1b8-4809-8aad-a0d63febaf55"
      },
      "execution_count": 49,
      "outputs": [
        {
          "output_type": "execute_result",
          "data": {
            "text/plain": [
              "{'n_neighbors': 7, 'weights': 'uniform'}"
            ]
          },
          "metadata": {},
          "execution_count": 49
        }
      ]
    },
    {
      "cell_type": "code",
      "source": [
        "model = KNeighborsRegressor(n_neighbors=7, weights=\"uniform\" )\n",
        "model.fit(X_train, y_train)\n",
        "model.predict(X_test)\n",
        "\n",
        "diameterPrediction  = model.predict(X_test)\n",
        "mse = mean_squared_error(y_test, diameterPrediction)\n",
        "rmse = np.sqrt(mse)\n",
        "print(\"root mean square error : \"+str(rmse))\n",
        "\n",
        "r2 = r2_score(y_test,diameterPrediction)\n",
        "print(\"R2 Score : \",r2)\n",
        "\n",
        "algorithms.append('KNN')\n",
        "scores.append(r2)"
      ],
      "metadata": {
        "id": "f1Fw_KvzGoZs",
        "execution": {
          "iopub.status.busy": "2022-06-24T20:52:15.875965Z",
          "iopub.execute_input": "2022-06-24T20:52:15.876546Z",
          "iopub.status.idle": "2022-06-24T20:52:15.900261Z",
          "shell.execute_reply.started": "2022-06-24T20:52:15.876510Z",
          "shell.execute_reply": "2022-06-24T20:52:15.899202Z"
        },
        "trusted": true,
        "colab": {
          "base_uri": "https://localhost:8080/"
        },
        "outputId": "63afcef5-f5a4-4821-b4a5-417fa19e9118"
      },
      "execution_count": 85,
      "outputs": [
        {
          "output_type": "stream",
          "name": "stdout",
          "text": [
            "root mean square error : 15.37189848161624\n",
            "R2 Score :  0.806468222115843\n"
          ]
        }
      ]
    },
    {
      "cell_type": "code",
      "source": [
        "# Number of trees in random forest\n",
        "n_estimators = [int(x) for x in np.linspace(start = 10, stop = 80, num = 10)]\n",
        "# Number of features to consider at every split\n",
        "max_features = ['auto', 'sqrt']\n",
        "# Maximum number of levels in tree\n",
        "max_depth = [2,4]\n",
        "# Minimum number of samples required to split a node\n",
        "min_samples_split = [2, 5]\n",
        "# Minimum number of samples required at each leaf node\n",
        "min_samples_leaf = [1, 2]\n",
        "# Method of selecting samples for training each tree\n",
        "bootstrap = [True, False]"
      ],
      "metadata": {
        "id": "r_S19pZqFImI",
        "execution": {
          "iopub.status.busy": "2022-06-24T20:52:53.158253Z",
          "iopub.execute_input": "2022-06-24T20:52:53.158606Z",
          "iopub.status.idle": "2022-06-24T20:52:53.166143Z",
          "shell.execute_reply.started": "2022-06-24T20:52:53.158576Z",
          "shell.execute_reply": "2022-06-24T20:52:53.165032Z"
        },
        "trusted": true
      },
      "execution_count": 51,
      "outputs": []
    },
    {
      "cell_type": "code",
      "source": [
        "# Create the param grid\n",
        "param_grid = {'n_estimators': n_estimators,\n",
        "               'max_features': max_features,\n",
        "               'max_depth': max_depth,\n",
        "               'min_samples_split': min_samples_split,\n",
        "               'min_samples_leaf': min_samples_leaf,\n",
        "               'bootstrap': bootstrap}\n"
      ],
      "metadata": {
        "id": "WKHDG3j1FNYo",
        "execution": {
          "iopub.status.busy": "2022-06-24T20:52:56.988040Z",
          "iopub.execute_input": "2022-06-24T20:52:56.988727Z",
          "iopub.status.idle": "2022-06-24T20:52:56.994886Z",
          "shell.execute_reply.started": "2022-06-24T20:52:56.988689Z",
          "shell.execute_reply": "2022-06-24T20:52:56.993729Z"
        },
        "trusted": true
      },
      "execution_count": 52,
      "outputs": []
    },
    {
      "cell_type": "code",
      "source": [
        "from sklearn.ensemble import RandomForestClassifier\n",
        "rf_Model = RandomForestClassifier()"
      ],
      "metadata": {
        "id": "vsOYk2uHFQRB",
        "execution": {
          "iopub.status.busy": "2022-06-24T20:53:00.577005Z",
          "iopub.execute_input": "2022-06-24T20:53:00.577676Z",
          "iopub.status.idle": "2022-06-24T20:53:00.582325Z",
          "shell.execute_reply.started": "2022-06-24T20:53:00.577638Z",
          "shell.execute_reply": "2022-06-24T20:53:00.581050Z"
        },
        "trusted": true
      },
      "execution_count": 53,
      "outputs": []
    },
    {
      "cell_type": "code",
      "source": [
        "rf_Grid = GridSearchCV(estimator = rf_Model, param_grid = param_grid, cv = 3, verbose=2, n_jobs = 4)"
      ],
      "metadata": {
        "id": "Imk-f-O_FfI2",
        "execution": {
          "iopub.status.busy": "2022-06-24T20:53:05.919779Z",
          "iopub.execute_input": "2022-06-24T20:53:05.920644Z",
          "iopub.status.idle": "2022-06-24T20:53:05.925988Z",
          "shell.execute_reply.started": "2022-06-24T20:53:05.920603Z",
          "shell.execute_reply": "2022-06-24T20:53:05.924977Z"
        },
        "trusted": true
      },
      "execution_count": 54,
      "outputs": []
    },
    {
      "cell_type": "code",
      "source": [
        "y = df['diameter']\n",
        "x = df.drop(['diameter'],axis = 1)\n",
        "X_train, X_test, y_train, y_test = train_test_split(x, y, test_size=0.2, random_state=42)"
      ],
      "metadata": {
        "id": "XncIFKgUJq0Z",
        "execution": {
          "iopub.status.busy": "2022-06-24T20:53:08.756848Z",
          "iopub.execute_input": "2022-06-24T20:53:08.757215Z",
          "iopub.status.idle": "2022-06-24T20:53:08.768539Z",
          "shell.execute_reply.started": "2022-06-24T20:53:08.757184Z",
          "shell.execute_reply": "2022-06-24T20:53:08.767369Z"
        },
        "trusted": true
      },
      "execution_count": 55,
      "outputs": []
    },
    {
      "cell_type": "code",
      "source": [
        "X_train = X_train.astype(int)\n",
        "y_train = y_train.astype(int)"
      ],
      "metadata": {
        "id": "dsugcVxRPaT8",
        "execution": {
          "iopub.status.busy": "2022-06-24T20:53:11.297994Z",
          "iopub.execute_input": "2022-06-24T20:53:11.299114Z",
          "iopub.status.idle": "2022-06-24T20:53:11.304933Z",
          "shell.execute_reply.started": "2022-06-24T20:53:11.299062Z",
          "shell.execute_reply": "2022-06-24T20:53:11.303534Z"
        },
        "trusted": true
      },
      "execution_count": 56,
      "outputs": []
    },
    {
      "cell_type": "code",
      "source": [
        "rf_Grid.fit(X_train, y_train)"
      ],
      "metadata": {
        "id": "4AbSltzUFgoa",
        "execution": {
          "iopub.status.busy": "2022-06-24T20:53:13.902952Z",
          "iopub.execute_input": "2022-06-24T20:53:13.903325Z",
          "iopub.status.idle": "2022-06-24T20:57:29.966521Z",
          "shell.execute_reply.started": "2022-06-24T20:53:13.903294Z",
          "shell.execute_reply": "2022-06-24T20:57:29.965191Z"
        },
        "trusted": true,
        "colab": {
          "base_uri": "https://localhost:8080/"
        },
        "outputId": "37ae8523-d9de-4c35-e6a5-a36a49feb3c2"
      },
      "execution_count": 57,
      "outputs": [
        {
          "output_type": "stream",
          "name": "stdout",
          "text": [
            "Fitting 3 folds for each of 320 candidates, totalling 960 fits\n"
          ]
        },
        {
          "output_type": "stream",
          "name": "stderr",
          "text": [
            "/usr/local/lib/python3.7/dist-packages/sklearn/model_selection/_split.py:680: UserWarning: The least populated class in y has only 1 members, which is less than n_splits=3.\n",
            "  UserWarning,\n"
          ]
        },
        {
          "output_type": "execute_result",
          "data": {
            "text/plain": [
              "GridSearchCV(cv=3, estimator=RandomForestClassifier(), n_jobs=4,\n",
              "             param_grid={'bootstrap': [True, False], 'max_depth': [2, 4],\n",
              "                         'max_features': ['auto', 'sqrt'],\n",
              "                         'min_samples_leaf': [1, 2],\n",
              "                         'min_samples_split': [2, 5],\n",
              "                         'n_estimators': [10, 17, 25, 33, 41, 48, 56, 64, 72,\n",
              "                                          80]},\n",
              "             verbose=2)"
            ]
          },
          "metadata": {},
          "execution_count": 57
        }
      ]
    },
    {
      "cell_type": "code",
      "source": [
        "rf_Grid.best_params_"
      ],
      "metadata": {
        "id": "uH3sJfWmSLXc",
        "execution": {
          "iopub.status.busy": "2022-06-24T20:58:05.583791Z",
          "iopub.execute_input": "2022-06-24T20:58:05.584263Z",
          "iopub.status.idle": "2022-06-24T20:58:05.592800Z",
          "shell.execute_reply.started": "2022-06-24T20:58:05.584218Z",
          "shell.execute_reply": "2022-06-24T20:58:05.591773Z"
        },
        "trusted": true,
        "colab": {
          "base_uri": "https://localhost:8080/"
        },
        "outputId": "c7620bfc-8891-45c0-9e43-05b8da1c5c69"
      },
      "execution_count": 58,
      "outputs": [
        {
          "output_type": "execute_result",
          "data": {
            "text/plain": [
              "{'bootstrap': False,\n",
              " 'max_depth': 4,\n",
              " 'max_features': 'sqrt',\n",
              " 'min_samples_leaf': 2,\n",
              " 'min_samples_split': 5,\n",
              " 'n_estimators': 64}"
            ]
          },
          "metadata": {},
          "execution_count": 58
        }
      ]
    },
    {
      "cell_type": "code",
      "source": [
        "y = df['diameter']\n",
        "x = df.drop(['diameter'],axis = 1)\n",
        "SS_scaler = StandardScaler()\n",
        "X_std = SS_scaler.fit_transform(x)\n",
        "\n",
        "X_train, X_test, y_train, y_test = train_test_split(x_pca, y, test_size=0.2, random_state=42)"
      ],
      "metadata": {
        "id": "cfUwnXLCwBfK",
        "execution": {
          "iopub.status.busy": "2022-06-24T20:58:23.340632Z",
          "iopub.execute_input": "2022-06-24T20:58:23.341258Z",
          "iopub.status.idle": "2022-06-24T20:58:23.357007Z",
          "shell.execute_reply.started": "2022-06-24T20:58:23.341221Z",
          "shell.execute_reply": "2022-06-24T20:58:23.355968Z"
        },
        "trusted": true
      },
      "execution_count": 59,
      "outputs": []
    },
    {
      "cell_type": "code",
      "source": [
        "from sklearn.ensemble import RandomForestRegressor\n",
        "\n",
        "model = RandomForestRegressor(bootstrap = False,\n",
        " max_depth = 4,\n",
        " max_features = 'sqrt',\n",
        " min_samples_leaf = 2,\n",
        " min_samples_split = 5,\n",
        " n_estimators = 64)\n",
        "model.fit(X_train, y_train)\n",
        "\n",
        "diameterPrediction  = model.predict(X_test)\n",
        "mse = mean_squared_error(y_test, diameterPrediction)\n",
        "rmse = np.sqrt(mse)\n",
        "print(\"root mean square error : \"+str(rmse))\n",
        "\n",
        "r2 = r2_score(y_test,diameterPrediction)\n",
        "print(\"R2 Score : \",r2)\n",
        "\n",
        "algorithms.append('RandomForest')\n",
        "scores.append(r2)"
      ],
      "metadata": {
        "id": "9A2ioCnAR47x",
        "execution": {
          "iopub.status.busy": "2022-06-24T20:59:48.651739Z",
          "iopub.execute_input": "2022-06-24T20:59:48.652722Z",
          "iopub.status.idle": "2022-06-24T20:59:48.767346Z",
          "shell.execute_reply.started": "2022-06-24T20:59:48.652676Z",
          "shell.execute_reply": "2022-06-24T20:59:48.766273Z"
        },
        "trusted": true,
        "colab": {
          "base_uri": "https://localhost:8080/"
        },
        "outputId": "4e0af9c4-77b4-4e18-81e2-6a50ac6991f3"
      },
      "execution_count": 86,
      "outputs": [
        {
          "output_type": "stream",
          "name": "stdout",
          "text": [
            "root mean square error : 15.777841546548029\n",
            "R2 Score :  0.7961116311569529\n"
          ]
        }
      ]
    },
    {
      "cell_type": "code",
      "source": [
        "from sklearn.model_selection import GridSearchCV\n",
        "\n",
        "parameters = {\"gamma\": [1,0.1,0.01,0.001],\n",
        "              'max_depth': [2,3,4],\n",
        "              'n_estimators':[100,150,200,250],\n",
        "    \"kernel\": [\"linear\",\"rbf\"],\n",
        "    \"C\":[0.1,1,10]\n",
        "}\n",
        "tuning = GridSearchCV(estimator =XGBRegressor(objective='reg:squarederror'), \n",
        "            param_grid = parameters, scoring='r2')\n",
        "tuning.fit(X_train,y_train)\n",
        "tuning.best_params_, tuning.best_score_\n"
      ],
      "metadata": {
        "colab": {
          "base_uri": "https://localhost:8080/"
        },
        "id": "UstzhBmdeRnd",
        "outputId": "b01ff21a-1ea1-48cb-bdbb-1142d9a09e82"
      },
      "execution_count": 61,
      "outputs": [
        {
          "output_type": "execute_result",
          "data": {
            "text/plain": [
              "({'C': 0.1,\n",
              "  'gamma': 1,\n",
              "  'kernel': 'linear',\n",
              "  'max_depth': 4,\n",
              "  'n_estimators': 100},\n",
              " 0.846782985925052)"
            ]
          },
          "metadata": {},
          "execution_count": 61
        }
      ]
    },
    {
      "cell_type": "code",
      "source": [
        "from xgboost import XGBRegressor\n",
        "\n",
        "xgbregressor = XGBRegressor(max_depth = 4, c = 0.1, n_estimators = 100, gamma = 1, kernel = 'linear', objective='reg:squarederror')\n",
        "model = xgbregressor.fit(X_train, y_train)\n",
        "diameterPrediction = model.predict(X_test)\n",
        "mse = mean_squared_error(y_test, diameterPrediction)\n",
        "rmse = np.sqrt(mse)\n",
        "print(\"root mean square error : \"+str(rmse))\n",
        "\n",
        "r2 = r2_score(y_test,diameterPrediction)\n",
        "print(\"R2 Score : \",r2)\n",
        "\n",
        "algorithms.append('XGB')\n",
        "scores.append(r2)\n"
      ],
      "metadata": {
        "colab": {
          "base_uri": "https://localhost:8080/"
        },
        "id": "S1WXRsrxe8oa",
        "outputId": "71a80b13-0f2f-431a-ee84-cdc8e5e7f5b6"
      },
      "execution_count": 87,
      "outputs": [
        {
          "output_type": "stream",
          "name": "stdout",
          "text": [
            "root mean square error : 12.424774612840476\n",
            "R2 Score :  0.873562963048458\n"
          ]
        }
      ]
    },
    {
      "cell_type": "code",
      "source": [
        "parameters = {'C': [0.1, 1, 10, 100, 1000],\n",
        "              'gamma': [1, 0.1, 0.01, 0.001, 0.0001],\n",
        "              }\n",
        "\n",
        "tuning = GridSearchCV(estimator =SVR(), \n",
        "            param_grid = parameters, scoring='r2')\n",
        "tuning.fit(X_train,y_train)\n",
        "tuning.best_params_, tuning.best_score_              "
      ],
      "metadata": {
        "id": "chNUEGeckeRD",
        "colab": {
          "base_uri": "https://localhost:8080/"
        },
        "outputId": "d6707bf5-9eb0-4c51-d02c-a058bdfc84e7"
      },
      "execution_count": 63,
      "outputs": [
        {
          "output_type": "execute_result",
          "data": {
            "text/plain": [
              "({'C': 1000, 'gamma': 0.001}, 0.8717053128246045)"
            ]
          },
          "metadata": {},
          "execution_count": 63
        }
      ]
    },
    {
      "cell_type": "code",
      "source": [
        "from sklearn.svm import SVR\n",
        "model = SVR(C = 1000, gamma = 0.001)\n",
        "model.fit(X_train, y_train)\n",
        "model.predict(X_test)\n",
        "\n",
        "diameterPrediction  = model.predict(X_test)\n",
        "mse = mean_squared_error(y_test, diameterPrediction)\n",
        "rmse = np.sqrt(mse)\n",
        "print(\"root mean square error : \"+str(rmse))\n",
        "\n",
        "r2 = r2_score(y_test,diameterPrediction)\n",
        "print(\"R2 Score : \",r2)\n",
        "\n",
        "algorithms.append('SVR')\n",
        "scores.append(r2)"
      ],
      "metadata": {
        "colab": {
          "base_uri": "https://localhost:8080/"
        },
        "id": "c57rIRDXm1Y_",
        "outputId": "25bebcc7-c9f9-4555-d444-70dffeb9fddb"
      },
      "execution_count": 88,
      "outputs": [
        {
          "output_type": "stream",
          "name": "stdout",
          "text": [
            "root mean square error : 10.912508367093\n",
            "R2 Score :  0.9024681526207968\n"
          ]
        }
      ]
    },
    {
      "cell_type": "markdown",
      "source": [
        "AS HYPERPARAMETER TUNING IS NOT REQUIRED IN LINEAR REGRESSION, I HAVE DONE RIDGE & LASSO REGULARIZATION."
      ],
      "metadata": {
        "id": "o8tALWKzG-YH"
      }
    },
    {
      "cell_type": "code",
      "source": [
        "from sklearn.linear_model import Ridge\n",
        "model = Ridge()\n",
        "model.fit(X_train, y_train)\n",
        "model.predict(X_test)\n",
        "\n",
        "diameterPrediction  = model.predict(X_test)\n",
        "mse = mean_squared_error(y_test, diameterPrediction)\n",
        "rmse = np.sqrt(mse)\n",
        "print(\"root mean square error : \"+str(rmse))\n",
        "\n",
        "r2 = r2_score(y_test,diameterPrediction)\n",
        "print(\"R2 Score : \",r2)\n",
        "\n",
        "algorithms.append('RIDGE')\n",
        "scores.append(r2)"
      ],
      "metadata": {
        "colab": {
          "base_uri": "https://localhost:8080/"
        },
        "id": "h6McZz2DGJMj",
        "outputId": "217e52a7-722e-4697-8ebf-70ad918a9511"
      },
      "execution_count": 89,
      "outputs": [
        {
          "output_type": "stream",
          "name": "stdout",
          "text": [
            "root mean square error : 23.402681476124005\n",
            "R2 Score :  0.5514317668696214\n"
          ]
        }
      ]
    },
    {
      "cell_type": "code",
      "source": [
        "from sklearn import linear_model\n",
        "model = linear_model.Lasso(alpha=0.1)\n",
        "model.fit(X_train, y_train)\n",
        "model.predict(X_test)\n",
        "\n",
        "diameterPrediction  = model.predict(X_test)\n",
        "mse = mean_squared_error(y_test, diameterPrediction)\n",
        "rmse = np.sqrt(mse)\n",
        "print(\"root mean square error : \"+str(rmse))\n",
        "\n",
        "r2 = r2_score(y_test,diameterPrediction)\n",
        "print(\"R2 Score : \",r2)\n",
        "\n",
        "algorithms.append('LASSO')\n",
        "scores.append(r2)"
      ],
      "metadata": {
        "colab": {
          "base_uri": "https://localhost:8080/"
        },
        "id": "6NKaxlWjGKNr",
        "outputId": "c438498f-af93-4c75-a638-fac6902f08da"
      },
      "execution_count": 90,
      "outputs": [
        {
          "output_type": "stream",
          "name": "stdout",
          "text": [
            "root mean square error : 23.415923514007485\n",
            "R2 Score :  0.5509239927448397\n"
          ]
        }
      ]
    },
    {
      "cell_type": "code",
      "source": [
        "sns.barplot(algorithms,scores)"
      ],
      "metadata": {
        "colab": {
          "base_uri": "https://localhost:8080/",
          "height": 283
        },
        "id": "8Gs1P3NCOrFO",
        "outputId": "305a9af4-1f09-4c2a-cb25-9e4531dd64e7"
      },
      "execution_count": 91,
      "outputs": [
        {
          "output_type": "execute_result",
          "data": {
            "text/plain": [
              "<matplotlib.axes._subplots.AxesSubplot at 0x7f41af027fd0>"
            ]
          },
          "metadata": {},
          "execution_count": 91
        },
        {
          "output_type": "display_data",
          "data": {
            "text/plain": [
              "<Figure size 432x288 with 1 Axes>"
            ],
            "image/png": "[encoded data removed]"
          },
          "metadata": {
            "needs_background": "light"
          }
        }
      ]
    },
    {
      "cell_type": "markdown",
      "source": [
        "**AFTER HYPERPARAMETER TUNING THE MODEL, TO MY SURPRISE, SUPPORT VECTOR(SVR) REGRESSION IS GIVING THE HIGHEST R2 SCORE, IT HAS IMPROVED FROM 0.52 TO 0.90, THAT'S A MASSIVE IMPROVEMENT.**\n",
        " **THEREFORE, SVR IS THE BEST MODEL IN THIS CASE.**"
      ],
      "metadata": {
        "id": "5b9drKfdHOH0"
      }
    }
  ]
}